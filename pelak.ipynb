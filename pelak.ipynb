{
 "cells": [
  {
   "cell_type": "code",
   "execution_count": 1,
   "metadata": {},
   "outputs": [],
   "source": [
    "import cv2\n",
    "import os\n",
    "import numpy as np\n",
    "import matplotlib.pyplot as plt"
   ]
  },
  {
   "cell_type": "code",
   "execution_count": 2,
   "metadata": {},
   "outputs": [],
   "source": [
    "def show_im(img):\n",
    "    im=cv2.imread('1/1 (30).jpg')\n",
    "    cv2.imshow('ax',img)\n",
    "    cv2.waitKey(0)\n",
    "    cv2.destroyAllWindows()"
   ]
  },
  {
   "cell_type": "code",
   "execution_count": 3,
   "metadata": {},
   "outputs": [
    {
     "ename": "FileNotFoundError",
     "evalue": "[WinError 3] The system cannot find the path specified: '1'",
     "output_type": "error",
     "traceback": [
      "\u001b[1;31m---------------------------------------------------------------------------\u001b[0m",
      "\u001b[1;31mFileNotFoundError\u001b[0m                         Traceback (most recent call last)",
      "Cell \u001b[1;32mIn[3], line 1\u001b[0m\n\u001b[1;32m----> 1\u001b[0m files_1\u001b[38;5;241m=\u001b[39m\u001b[43mos\u001b[49m\u001b[38;5;241;43m.\u001b[39;49m\u001b[43mlistdir\u001b[49m\u001b[43m(\u001b[49m\u001b[38;5;124;43m'\u001b[39;49m\u001b[38;5;124;43m1\u001b[39;49m\u001b[38;5;124;43m'\u001b[39;49m\u001b[43m)\u001b[49m\n\u001b[0;32m      2\u001b[0m \u001b[38;5;28mprint\u001b[39m(files_1)\n",
      "\u001b[1;31mFileNotFoundError\u001b[0m: [WinError 3] The system cannot find the path specified: '1'"
     ]
    }
   ],
   "source": [
    "files_1=os.listdir('1')\n",
    "print(files_1)\n"
   ]
  },
  {
   "cell_type": "code",
   "execution_count": 4,
   "metadata": {},
   "outputs": [],
   "source": [
    "for filename in files_1:\n",
    "    im=cv2.imread('1/1 (30).jpg')"
   ]
  },
  {
   "cell_type": "code",
   "execution_count": 5,
   "metadata": {},
   "outputs": [
    {
     "name": "stdout",
     "output_type": "stream",
     "text": [
      "(125, 22, 3)\n",
      "(64, 16, 3)\n"
     ]
    }
   ],
   "source": [
    "img2 = cv2.resize(im,(16,64))\n",
    "print(im.shape)\n",
    "print(img2.shape)"
   ]
  },
  {
   "cell_type": "code",
   "execution_count": 6,
   "metadata": {},
   "outputs": [
    {
     "name": "stdout",
     "output_type": "stream",
     "text": [
      "[[ 15  17   8 ...   3   4   6]\n",
      " [ 41  45  44 ...  54  56  58]\n",
      " [155 150 148 ... 156 158 159]\n",
      " ...\n",
      " [164 169 154 ... 149 163 161]\n",
      " [198 201 204 ... 199 200 203]\n",
      " [164 161 162 ... 151 152 155]]\n"
     ]
    }
   ],
   "source": [
    "im3 = cv2.cvtColor(img2,cv2.COLOR_BGR2GRAY)\n",
    "im3.shape\n",
    "print(im3)"
   ]
  },
  {
   "cell_type": "code",
   "execution_count": 7,
   "metadata": {},
   "outputs": [
    {
     "data": {
      "text/plain": [
       "(1024,)"
      ]
     },
     "execution_count": 7,
     "metadata": {},
     "output_type": "execute_result"
    }
   ],
   "source": [
    "im4 = im3.flatten()\n",
    "#fllaten\n",
    "im4.shape"
   ]
  },
  {
   "cell_type": "code",
   "execution_count": 4,
   "metadata": {},
   "outputs": [
    {
     "ename": "FileNotFoundError",
     "evalue": "[WinError 3] The system cannot find the path specified: '1'",
     "output_type": "error",
     "traceback": [
      "\u001b[1;31m---------------------------------------------------------------------------\u001b[0m",
      "\u001b[1;31mFileNotFoundError\u001b[0m                         Traceback (most recent call last)",
      "Cell \u001b[1;32mIn[4], line 4\u001b[0m\n\u001b[0;32m      2\u001b[0m x\u001b[38;5;241m=\u001b[39mnp\u001b[38;5;241m.\u001b[39mempty((\u001b[38;5;241m0\u001b[39m,\u001b[38;5;241m256\u001b[39m))\n\u001b[0;32m      3\u001b[0m y\u001b[38;5;241m=\u001b[39mnp\u001b[38;5;241m.\u001b[39marray([])\n\u001b[1;32m----> 4\u001b[0m files\u001b[38;5;241m=\u001b[39m\u001b[43mos\u001b[49m\u001b[38;5;241;43m.\u001b[39;49m\u001b[43mlistdir\u001b[49m\u001b[43m(\u001b[49m\u001b[38;5;124;43m'\u001b[39;49m\u001b[38;5;124;43m1\u001b[39;49m\u001b[38;5;124;43m'\u001b[39;49m\u001b[43m)\u001b[49m\n\u001b[0;32m      5\u001b[0m \u001b[38;5;28;01mfor\u001b[39;00m filename \u001b[38;5;129;01min\u001b[39;00m files:\n\u001b[0;32m      6\u001b[0m     im\u001b[38;5;241m=\u001b[39mcv2\u001b[38;5;241m.\u001b[39mimread(\u001b[38;5;124m'\u001b[39m\u001b[38;5;124m1/\u001b[39m\u001b[38;5;124m'\u001b[39m\u001b[38;5;241m+\u001b[39mfilename)\n",
      "\u001b[1;31mFileNotFoundError\u001b[0m: [WinError 3] The system cannot find the path specified: '1'"
     ]
    }
   ],
   "source": [
    "#dataset1\n",
    "x=np.empty((0,256))\n",
    "y=np.array([])\n",
    "files=os.listdir('1')\n",
    "for filename in files:\n",
    "    im=cv2.imread('1/'+filename)\n",
    "    im2 = cv2.resize(im,(8,32))\n",
    "    im3 = cv2.cvtColor(im2,cv2.COLOR_BGR2GRAY)\n",
    "    im4 = im3.flatten()\n",
    "    x=np.append(x,[im4],axis=0)\n",
    "    y=np.append(y,1)\n",
    "\n"
   ]
  },
  {
   "cell_type": "code",
   "execution_count": 5,
   "metadata": {},
   "outputs": [
    {
     "ename": "FileNotFoundError",
     "evalue": "[WinError 3] The system cannot find the path specified: '1'",
     "output_type": "error",
     "traceback": [
      "\u001b[1;31m---------------------------------------------------------------------------\u001b[0m",
      "\u001b[1;31mFileNotFoundError\u001b[0m                         Traceback (most recent call last)",
      "Cell \u001b[1;32mIn[5], line 3\u001b[0m\n\u001b[0;32m      1\u001b[0m x\u001b[38;5;241m=\u001b[39mnp\u001b[38;5;241m.\u001b[39mempty((\u001b[38;5;241m0\u001b[39m,\u001b[38;5;241m256\u001b[39m))\n\u001b[0;32m      2\u001b[0m y\u001b[38;5;241m=\u001b[39mnp\u001b[38;5;241m.\u001b[39marray([])\n\u001b[1;32m----> 3\u001b[0m files\u001b[38;5;241m=\u001b[39m\u001b[43mos\u001b[49m\u001b[38;5;241;43m.\u001b[39;49m\u001b[43mlistdir\u001b[49m\u001b[43m(\u001b[49m\u001b[38;5;124;43m'\u001b[39;49m\u001b[38;5;124;43m1\u001b[39;49m\u001b[38;5;124;43m'\u001b[39;49m\u001b[43m)\u001b[49m\n\u001b[0;32m      4\u001b[0m \u001b[38;5;28;01mfor\u001b[39;00m k \u001b[38;5;129;01min\u001b[39;00m \u001b[38;5;28mrange\u001b[39m(\u001b[38;5;241m1\u001b[39m,\u001b[38;5;241m10\u001b[39m):\n\u001b[0;32m      5\u001b[0m     files\u001b[38;5;241m=\u001b[39mos\u001b[38;5;241m.\u001b[39mlistdir(\u001b[38;5;28mstr\u001b[39m(k))\n",
      "\u001b[1;31mFileNotFoundError\u001b[0m: [WinError 3] The system cannot find the path specified: '1'"
     ]
    }
   ],
   "source": [
    "x=np.empty((0,256))\n",
    "y=np.array([])\n",
    "files=os.listdir('1')\n",
    "for k in range(1,10):\n",
    "    files=os.listdir(str(k))\n",
    "    for filename in files:\n",
    "        im=cv2.imread(str(k)+'/'+filename)\n",
    "        im2 = cv2.resize(im,(8,32))\n",
    "        im3 = cv2.cvtColor(im2,cv2.COLOR_BGR2GRAY)\n",
    "        im4 = im3.flatten()\n",
    "        x=np.append(x,[im4],axis=0)\n",
    "        y=np.append(y,k)\n",
    "\n"
   ]
  },
  {
   "cell_type": "code",
   "execution_count": 6,
   "metadata": {},
   "outputs": [
    {
     "data": {
      "text/plain": [
       "(0,)"
      ]
     },
     "execution_count": 6,
     "metadata": {},
     "output_type": "execute_result"
    }
   ],
   "source": [
    "y.shape"
   ]
  },
  {
   "cell_type": "code",
   "execution_count": 7,
   "metadata": {},
   "outputs": [],
   "source": [
    "from sklearn import linear_model\n",
    "from sklearn.model_selection import train_test_split"
   ]
  },
  {
   "cell_type": "code",
   "execution_count": 8,
   "metadata": {},
   "outputs": [
    {
     "ename": "ValueError",
     "evalue": "With n_samples=0, test_size=0.2 and train_size=None, the resulting train set will be empty. Adjust any of the aforementioned parameters.",
     "output_type": "error",
     "traceback": [
      "\u001b[1;31m---------------------------------------------------------------------------\u001b[0m",
      "\u001b[1;31mValueError\u001b[0m                                Traceback (most recent call last)",
      "Cell \u001b[1;32mIn[8], line 1\u001b[0m\n\u001b[1;32m----> 1\u001b[0m X_train , X_test , y_train , y_test \u001b[38;5;241m=\u001b[39m \u001b[43mtrain_test_split\u001b[49m\u001b[43m(\u001b[49m\u001b[43m \u001b[49m\u001b[43mx\u001b[49m\u001b[43m,\u001b[49m\u001b[43my\u001b[49m\u001b[43m,\u001b[49m\u001b[43m \u001b[49m\u001b[43mtest_size\u001b[49m\u001b[38;5;241;43m=\u001b[39;49m\u001b[38;5;241;43m0.2\u001b[39;49m\u001b[43m)\u001b[49m\n\u001b[0;32m      3\u001b[0m model \u001b[38;5;241m=\u001b[39mlinear_model\u001b[38;5;241m.\u001b[39mLogisticRegression()\n\u001b[0;32m      4\u001b[0m model\u001b[38;5;241m.\u001b[39mfit(X_train , y_train)\n",
      "File \u001b[1;32mc:\\Users\\Sajad\\AppData\\Local\\Programs\\Python\\Python38\\lib\\site-packages\\sklearn\\utils\\_param_validation.py:214\u001b[0m, in \u001b[0;36mvalidate_params.<locals>.decorator.<locals>.wrapper\u001b[1;34m(*args, **kwargs)\u001b[0m\n\u001b[0;32m    208\u001b[0m \u001b[38;5;28;01mtry\u001b[39;00m:\n\u001b[0;32m    209\u001b[0m     \u001b[38;5;28;01mwith\u001b[39;00m config_context(\n\u001b[0;32m    210\u001b[0m         skip_parameter_validation\u001b[38;5;241m=\u001b[39m(\n\u001b[0;32m    211\u001b[0m             prefer_skip_nested_validation \u001b[38;5;129;01mor\u001b[39;00m global_skip_validation\n\u001b[0;32m    212\u001b[0m         )\n\u001b[0;32m    213\u001b[0m     ):\n\u001b[1;32m--> 214\u001b[0m         \u001b[38;5;28;01mreturn\u001b[39;00m \u001b[43mfunc\u001b[49m\u001b[43m(\u001b[49m\u001b[38;5;241;43m*\u001b[39;49m\u001b[43margs\u001b[49m\u001b[43m,\u001b[49m\u001b[43m \u001b[49m\u001b[38;5;241;43m*\u001b[39;49m\u001b[38;5;241;43m*\u001b[39;49m\u001b[43mkwargs\u001b[49m\u001b[43m)\u001b[49m\n\u001b[0;32m    215\u001b[0m \u001b[38;5;28;01mexcept\u001b[39;00m InvalidParameterError \u001b[38;5;28;01mas\u001b[39;00m e:\n\u001b[0;32m    216\u001b[0m     \u001b[38;5;66;03m# When the function is just a wrapper around an estimator, we allow\u001b[39;00m\n\u001b[0;32m    217\u001b[0m     \u001b[38;5;66;03m# the function to delegate validation to the estimator, but we replace\u001b[39;00m\n\u001b[0;32m    218\u001b[0m     \u001b[38;5;66;03m# the name of the estimator by the name of the function in the error\u001b[39;00m\n\u001b[0;32m    219\u001b[0m     \u001b[38;5;66;03m# message to avoid confusion.\u001b[39;00m\n\u001b[0;32m    220\u001b[0m     msg \u001b[38;5;241m=\u001b[39m re\u001b[38;5;241m.\u001b[39msub(\n\u001b[0;32m    221\u001b[0m         \u001b[38;5;124mr\u001b[39m\u001b[38;5;124m\"\u001b[39m\u001b[38;5;124mparameter of \u001b[39m\u001b[38;5;124m\\\u001b[39m\u001b[38;5;124mw+ must be\u001b[39m\u001b[38;5;124m\"\u001b[39m,\n\u001b[0;32m    222\u001b[0m         \u001b[38;5;124mf\u001b[39m\u001b[38;5;124m\"\u001b[39m\u001b[38;5;124mparameter of \u001b[39m\u001b[38;5;132;01m{\u001b[39;00mfunc\u001b[38;5;241m.\u001b[39m\u001b[38;5;18m__qualname__\u001b[39m\u001b[38;5;132;01m}\u001b[39;00m\u001b[38;5;124m must be\u001b[39m\u001b[38;5;124m\"\u001b[39m,\n\u001b[0;32m    223\u001b[0m         \u001b[38;5;28mstr\u001b[39m(e),\n\u001b[0;32m    224\u001b[0m     )\n",
      "File \u001b[1;32mc:\\Users\\Sajad\\AppData\\Local\\Programs\\Python\\Python38\\lib\\site-packages\\sklearn\\model_selection\\_split.py:2649\u001b[0m, in \u001b[0;36mtrain_test_split\u001b[1;34m(test_size, train_size, random_state, shuffle, stratify, *arrays)\u001b[0m\n\u001b[0;32m   2646\u001b[0m arrays \u001b[38;5;241m=\u001b[39m indexable(\u001b[38;5;241m*\u001b[39marrays)\n\u001b[0;32m   2648\u001b[0m n_samples \u001b[38;5;241m=\u001b[39m _num_samples(arrays[\u001b[38;5;241m0\u001b[39m])\n\u001b[1;32m-> 2649\u001b[0m n_train, n_test \u001b[38;5;241m=\u001b[39m \u001b[43m_validate_shuffle_split\u001b[49m\u001b[43m(\u001b[49m\n\u001b[0;32m   2650\u001b[0m \u001b[43m    \u001b[49m\u001b[43mn_samples\u001b[49m\u001b[43m,\u001b[49m\u001b[43m \u001b[49m\u001b[43mtest_size\u001b[49m\u001b[43m,\u001b[49m\u001b[43m \u001b[49m\u001b[43mtrain_size\u001b[49m\u001b[43m,\u001b[49m\u001b[43m \u001b[49m\u001b[43mdefault_test_size\u001b[49m\u001b[38;5;241;43m=\u001b[39;49m\u001b[38;5;241;43m0.25\u001b[39;49m\n\u001b[0;32m   2651\u001b[0m \u001b[43m\u001b[49m\u001b[43m)\u001b[49m\n\u001b[0;32m   2653\u001b[0m \u001b[38;5;28;01mif\u001b[39;00m shuffle \u001b[38;5;129;01mis\u001b[39;00m \u001b[38;5;28;01mFalse\u001b[39;00m:\n\u001b[0;32m   2654\u001b[0m     \u001b[38;5;28;01mif\u001b[39;00m stratify \u001b[38;5;129;01mis\u001b[39;00m \u001b[38;5;129;01mnot\u001b[39;00m \u001b[38;5;28;01mNone\u001b[39;00m:\n",
      "File \u001b[1;32mc:\\Users\\Sajad\\AppData\\Local\\Programs\\Python\\Python38\\lib\\site-packages\\sklearn\\model_selection\\_split.py:2305\u001b[0m, in \u001b[0;36m_validate_shuffle_split\u001b[1;34m(n_samples, test_size, train_size, default_test_size)\u001b[0m\n\u001b[0;32m   2302\u001b[0m n_train, n_test \u001b[38;5;241m=\u001b[39m \u001b[38;5;28mint\u001b[39m(n_train), \u001b[38;5;28mint\u001b[39m(n_test)\n\u001b[0;32m   2304\u001b[0m \u001b[38;5;28;01mif\u001b[39;00m n_train \u001b[38;5;241m==\u001b[39m \u001b[38;5;241m0\u001b[39m:\n\u001b[1;32m-> 2305\u001b[0m     \u001b[38;5;28;01mraise\u001b[39;00m \u001b[38;5;167;01mValueError\u001b[39;00m(\n\u001b[0;32m   2306\u001b[0m         \u001b[38;5;124m\"\u001b[39m\u001b[38;5;124mWith n_samples=\u001b[39m\u001b[38;5;132;01m{}\u001b[39;00m\u001b[38;5;124m, test_size=\u001b[39m\u001b[38;5;132;01m{}\u001b[39;00m\u001b[38;5;124m and train_size=\u001b[39m\u001b[38;5;132;01m{}\u001b[39;00m\u001b[38;5;124m, the \u001b[39m\u001b[38;5;124m\"\u001b[39m\n\u001b[0;32m   2307\u001b[0m         \u001b[38;5;124m\"\u001b[39m\u001b[38;5;124mresulting train set will be empty. Adjust any of the \u001b[39m\u001b[38;5;124m\"\u001b[39m\n\u001b[0;32m   2308\u001b[0m         \u001b[38;5;124m\"\u001b[39m\u001b[38;5;124maforementioned parameters.\u001b[39m\u001b[38;5;124m\"\u001b[39m\u001b[38;5;241m.\u001b[39mformat(n_samples, test_size, train_size)\n\u001b[0;32m   2309\u001b[0m     )\n\u001b[0;32m   2311\u001b[0m \u001b[38;5;28;01mreturn\u001b[39;00m n_train, n_test\n",
      "\u001b[1;31mValueError\u001b[0m: With n_samples=0, test_size=0.2 and train_size=None, the resulting train set will be empty. Adjust any of the aforementioned parameters."
     ]
    }
   ],
   "source": [
    "X_train , X_test , y_train , y_test = train_test_split( x,y, test_size=0.2)\n",
    "\n",
    "model =linear_model.LogisticRegression()\n",
    "model.fit(X_train , y_train)\n",
    "\n",
    "out = model.predict(X_test)"
   ]
  },
  {
   "cell_type": "code",
   "execution_count": 13,
   "metadata": {},
   "outputs": [
    {
     "data": {
      "text/plain": [
       "array([5., 5., 9., 4., 7., 5., 5., 1., 2., 7., 4., 5., 2., 3., 7., 3., 4.,\n",
       "       2., 6., 2., 6., 7., 2., 8., 7., 2., 1., 8., 8., 4., 2., 9., 4., 6.,\n",
       "       2., 9., 5., 3., 6., 9., 3., 2., 7., 1., 8., 4., 9., 2., 9., 3., 2.,\n",
       "       9., 4., 5., 7., 1., 3., 4., 7., 5., 3., 4., 7., 5., 7., 4., 4., 5.,\n",
       "       6., 1., 2., 6., 4., 6., 3., 2., 2., 1., 9., 9., 3., 4., 8., 2., 2.,\n",
       "       3., 3., 9., 8., 4., 1., 5., 8., 1., 7., 6., 6., 8., 3., 8., 4., 2.,\n",
       "       8., 6., 1., 2., 7., 4., 1., 8., 2., 2., 5., 4., 4., 6., 4., 4., 5.,\n",
       "       8., 4., 8., 6., 9., 3., 7., 2., 7., 9., 5., 8., 4., 5., 5., 1., 1.,\n",
       "       6., 5., 9., 3., 2., 9., 2., 4., 1., 2., 5., 7., 9., 2., 3., 5., 9.,\n",
       "       4., 3., 9., 1., 8., 6., 1., 8., 1., 2., 7., 8., 2., 2., 9., 9., 2.,\n",
       "       9., 8., 8., 9., 3., 7., 1., 3., 7., 5., 9., 4., 2., 5., 8., 2., 2.,\n",
       "       8., 6., 6., 2., 2., 2., 6., 6., 8., 4., 3., 1., 4., 3., 5., 3., 3.,\n",
       "       5., 9., 1., 9., 1., 2., 8., 9., 9., 4., 6., 2., 3., 3., 5., 6., 2.,\n",
       "       2., 7., 8., 2., 2., 9., 1., 1., 1., 4., 5., 9., 7., 7., 8., 7., 4.,\n",
       "       3., 8., 3., 7., 9., 6., 7., 8., 6., 2., 5., 1., 3., 6., 3., 7., 7.,\n",
       "       5., 9., 5., 6., 8., 9., 4., 8., 1., 2., 2., 2., 3., 5., 3., 9., 9.,\n",
       "       4., 2., 3., 9., 4., 8., 9., 4., 5., 4., 7., 9., 3., 7., 2., 8., 4.,\n",
       "       9., 6., 5., 3., 3., 6., 8., 4., 6., 9., 5., 1., 2., 8., 4., 9., 5.,\n",
       "       8., 4., 6., 8., 3., 6., 6., 5., 6., 7., 6., 1., 2., 1., 6., 8., 9.,\n",
       "       1., 2., 7., 3., 1., 9., 4., 4., 1., 8., 2., 3., 9., 1., 4., 9., 6.,\n",
       "       5., 6., 4., 5., 1., 7., 5., 7., 4., 3., 2., 3., 4., 4., 8., 5., 1.,\n",
       "       3., 4., 3., 6., 8., 1., 2., 2., 1., 8., 4., 1., 8., 4., 3., 8., 3.,\n",
       "       9., 6., 1., 2., 6., 2., 8., 7., 1., 6., 2., 8., 5., 5., 3., 2., 3.,\n",
       "       4., 7., 8., 4., 5., 6., 3., 1., 7., 7., 9., 8., 7., 2., 3., 1., 6.,\n",
       "       8., 4., 7., 8., 7., 2., 4., 4., 2., 6., 2., 9., 4., 2., 1., 1., 6.,\n",
       "       4., 3., 5., 2., 6., 4., 4., 1., 2., 5., 7., 7., 2., 5., 9., 5., 7.,\n",
       "       3., 5., 5., 9., 9., 8., 9., 3., 6., 3., 1., 8., 3., 5., 3., 9., 6.,\n",
       "       4., 9., 5., 1., 9., 9., 1., 4., 9., 9., 4., 6., 7., 8., 1., 9., 4.,\n",
       "       4., 3., 5., 8., 6., 8., 2., 7., 7., 3., 7., 8., 1., 6., 5., 9., 8.,\n",
       "       1., 9., 9., 2., 7., 8., 2., 4., 6., 8., 8., 7., 7., 5., 8., 1., 8.,\n",
       "       1., 3., 2., 7., 7., 3., 1., 8., 9., 7., 6., 3., 2., 3., 4., 9., 7.,\n",
       "       6., 5., 2., 9., 8., 3., 5., 4., 8., 7., 5., 8., 4., 6., 3., 5., 3.,\n",
       "       6., 9., 2., 7., 8., 5., 2., 6., 9., 8., 6., 9., 2., 2., 8., 5., 3.,\n",
       "       3., 3., 3., 2., 5., 5., 7., 7., 8., 6., 2., 5., 5., 6., 6., 4., 8.,\n",
       "       9., 1., 9., 1., 2., 9., 4., 5., 8., 1., 5., 3., 2., 5., 7., 5., 1.,\n",
       "       5., 5., 3., 9., 4., 2., 1., 8., 6., 9., 8., 1., 2., 8., 1., 5., 1.,\n",
       "       2., 6., 1., 4., 6., 7., 6., 2., 4.])"
      ]
     },
     "execution_count": 13,
     "metadata": {},
     "output_type": "execute_result"
    }
   ],
   "source": [
    "out"
   ]
  },
  {
   "cell_type": "code",
   "execution_count": 14,
   "metadata": {},
   "outputs": [
    {
     "data": {
      "text/plain": [
       "array([5., 5., 9., 4., 7., 5., 7., 1., 2., 7., 4., 5., 2., 3., 7., 3., 4.,\n",
       "       2., 6., 2., 6., 7., 2., 8., 8., 2., 1., 7., 8., 4., 2., 9., 4., 6.,\n",
       "       2., 9., 5., 3., 6., 9., 3., 2., 7., 1., 8., 4., 9., 2., 9., 3., 2.,\n",
       "       9., 4., 5., 7., 1., 3., 4., 7., 5., 3., 4., 7., 5., 7., 4., 4., 5.,\n",
       "       6., 1., 2., 6., 4., 6., 3., 2., 2., 1., 9., 9., 3., 4., 8., 7., 2.,\n",
       "       3., 9., 9., 8., 4., 1., 5., 8., 1., 7., 6., 6., 3., 3., 8., 4., 2.,\n",
       "       8., 6., 1., 2., 7., 4., 1., 8., 2., 2., 1., 4., 4., 6., 4., 4., 5.,\n",
       "       8., 4., 8., 6., 9., 3., 7., 2., 7., 9., 5., 9., 4., 5., 7., 1., 1.,\n",
       "       6., 5., 9., 4., 7., 9., 2., 4., 1., 3., 5., 7., 9., 2., 3., 5., 9.,\n",
       "       4., 3., 9., 1., 8., 6., 1., 8., 1., 2., 7., 8., 2., 2., 9., 9., 2.,\n",
       "       9., 8., 8., 9., 3., 7., 1., 3., 2., 5., 9., 4., 2., 5., 8., 2., 2.,\n",
       "       8., 6., 6., 2., 2., 2., 6., 6., 8., 3., 3., 1., 4., 3., 5., 3., 3.,\n",
       "       5., 9., 1., 9., 1., 3., 8., 9., 9., 4., 6., 2., 2., 9., 5., 6., 2.,\n",
       "       2., 7., 8., 2., 3., 9., 1., 7., 1., 4., 5., 9., 8., 7., 8., 7., 6.,\n",
       "       7., 8., 3., 7., 9., 6., 7., 6., 6., 2., 5., 1., 3., 6., 3., 7., 2.,\n",
       "       2., 9., 5., 6., 8., 9., 4., 8., 1., 2., 2., 2., 3., 5., 3., 9., 9.,\n",
       "       4., 2., 3., 9., 4., 7., 9., 4., 5., 3., 7., 9., 3., 7., 2., 8., 4.,\n",
       "       9., 6., 5., 3., 3., 6., 8., 4., 6., 9., 5., 1., 2., 9., 4., 9., 5.,\n",
       "       8., 4., 6., 8., 3., 6., 6., 5., 6., 7., 6., 1., 2., 1., 6., 8., 9.,\n",
       "       1., 2., 7., 3., 1., 9., 4., 4., 1., 8., 2., 3., 9., 1., 4., 9., 8.,\n",
       "       5., 9., 4., 5., 8., 7., 5., 7., 4., 3., 1., 3., 4., 4., 8., 5., 9.,\n",
       "       3., 4., 4., 6., 8., 1., 2., 2., 1., 8., 4., 1., 8., 4., 3., 8., 3.,\n",
       "       9., 3., 1., 2., 8., 2., 9., 7., 1., 6., 2., 8., 5., 5., 3., 2., 3.,\n",
       "       4., 7., 8., 4., 5., 6., 3., 1., 7., 7., 9., 8., 7., 2., 3., 1., 6.,\n",
       "       4., 9., 7., 8., 7., 2., 6., 4., 2., 6., 2., 9., 4., 2., 1., 1., 6.,\n",
       "       4., 3., 5., 6., 6., 6., 4., 7., 7., 1., 7., 7., 2., 5., 9., 5., 7.,\n",
       "       3., 5., 5., 9., 9., 8., 9., 3., 6., 3., 1., 8., 3., 5., 3., 9., 6.,\n",
       "       4., 9., 5., 1., 9., 9., 1., 4., 9., 9., 4., 6., 7., 8., 1., 9., 4.,\n",
       "       4., 3., 5., 8., 6., 8., 2., 7., 7., 4., 7., 8., 1., 8., 5., 9., 8.,\n",
       "       1., 9., 9., 7., 7., 8., 2., 4., 6., 4., 8., 7., 2., 5., 3., 1., 8.,\n",
       "       1., 3., 2., 8., 7., 4., 1., 8., 9., 7., 6., 4., 2., 3., 4., 2., 7.,\n",
       "       6., 5., 2., 9., 8., 3., 5., 4., 8., 7., 5., 8., 4., 6., 3., 5., 3.,\n",
       "       6., 4., 2., 7., 8., 5., 2., 6., 9., 8., 6., 9., 2., 2., 5., 5., 3.,\n",
       "       3., 3., 3., 2., 5., 5., 7., 7., 8., 6., 2., 5., 5., 6., 6., 4., 3.,\n",
       "       9., 1., 9., 2., 2., 9., 4., 5., 8., 1., 5., 3., 2., 5., 7., 5., 1.,\n",
       "       5., 5., 3., 9., 4., 2., 1., 8., 6., 9., 8., 1., 2., 8., 1., 5., 1.,\n",
       "       2., 6., 1., 3., 6., 7., 6., 2., 4.])"
      ]
     },
     "execution_count": 14,
     "metadata": {},
     "output_type": "execute_result"
    }
   ],
   "source": [
    "y_test"
   ]
  },
  {
   "cell_type": "code",
   "execution_count": 15,
   "metadata": {},
   "outputs": [],
   "source": [
    "x1  =np.empty((0,256))\n",
    "\n",
    "im=cv2.imread('t1.jpg')\n",
    "im2 = cv2.resize(im,(8,32))\n",
    "im3 = cv2.cvtColor(im2,cv2.COLOR_BGR2GRAY)\n",
    "im4 = im3.flatten()\n",
    "x1=np.append(x1,[im4],axis=0)"
   ]
  },
  {
   "cell_type": "code",
   "execution_count": 16,
   "metadata": {},
   "outputs": [
    {
     "data": {
      "text/plain": [
       "array([2.])"
      ]
     },
     "execution_count": 16,
     "metadata": {},
     "output_type": "execute_result"
    }
   ],
   "source": [
    "result = model.predict(x1)\n",
    "result"
   ]
  },
  {
   "cell_type": "code",
   "execution_count": 17,
   "metadata": {},
   "outputs": [],
   "source": [
    "pelak = cv2.imread('pelak.png',0)\n",
    "show_im(pelak)"
   ]
  },
  {
   "cell_type": "code",
   "execution_count": 18,
   "metadata": {},
   "outputs": [],
   "source": [
    "s = 90-(np.sum(pelak , axis=0 , keepdims=True)/255)"
   ]
  },
  {
   "cell_type": "code",
   "execution_count": 19,
   "metadata": {},
   "outputs": [
    {
     "name": "stdout",
     "output_type": "stream",
     "text": [
      "[0.00000000e+00 0.00000000e+00 0.00000000e+00 0.00000000e+00\n",
      " 0.00000000e+00 0.00000000e+00 7.64705882e-01 3.23137255e+00\n",
      " 6.76470588e+00 1.02901961e+01 1.38941176e+01 1.76196078e+01\n",
      " 2.14392157e+01 2.48078431e+01 2.80549020e+01 3.16392157e+01\n",
      " 3.54274510e+01 4.21294118e+01 5.16313725e+01 5.64745098e+01\n",
      " 5.43882353e+01 5.19647059e+01 4.90470588e+01 4.61254902e+01\n",
      " 4.24392157e+01 3.82078431e+01 3.34666667e+01 2.82156863e+01\n",
      " 2.04980392e+01 7.44705882e+00 1.56862745e-01 0.00000000e+00\n",
      " 0.00000000e+00 0.00000000e+00 0.00000000e+00 0.00000000e+00\n",
      " 0.00000000e+00 0.00000000e+00 0.00000000e+00 0.00000000e+00\n",
      " 0.00000000e+00 0.00000000e+00 0.00000000e+00 0.00000000e+00\n",
      " 0.00000000e+00 0.00000000e+00 0.00000000e+00 0.00000000e+00\n",
      " 0.00000000e+00 2.78431373e-01 1.93725490e+00 5.16862745e+00\n",
      " 8.32549020e+00 1.16117647e+01 1.50784314e+01 1.86313725e+01\n",
      " 2.30196078e+01 2.66509804e+01 3.01607843e+01 3.34705882e+01\n",
      " 3.73882353e+01 4.32901961e+01 5.16549020e+01 5.55254902e+01\n",
      " 5.34470588e+01 5.15450980e+01 5.04039216e+01 4.96431373e+01\n",
      " 4.90588235e+01 4.77960784e+01 4.40274510e+01 3.77019608e+01\n",
      " 2.64549020e+01 1.53254902e+01 1.11294118e+01 1.09490196e+01\n",
      " 1.10745098e+01 1.12313725e+01 1.17333333e+01 1.24549020e+01\n",
      " 1.39803922e+01 1.94156863e+01 2.51568627e+01 2.56078431e+01\n",
      " 2.59960784e+01 2.62627451e+01 2.61960784e+01 2.53803922e+01\n",
      " 2.33058824e+01 1.79568627e+01 6.69019608e+00 2.10196078e+00\n",
      " 6.24705882e+00 1.18313725e+01 1.37176471e+01 1.52588235e+01\n",
      " 1.64627451e+01 1.73450980e+01 1.78627451e+01 1.83450980e+01\n",
      " 1.88627451e+01 1.64745098e+01 1.36549020e+01 1.25411765e+01\n",
      " 1.16666667e+01 1.11529412e+01 1.07176471e+01 1.04117647e+01\n",
      " 1.03333333e+01 1.03333333e+01 1.03333333e+01 1.03333333e+01\n",
      " 1.03333333e+01 1.03333333e+01 1.03333333e+01 1.03333333e+01\n",
      " 1.03333333e+01 1.03333333e+01 1.03333333e+01 1.03333333e+01\n",
      " 1.03333333e+01 1.04039216e+01 1.47372549e+01 1.90941176e+01\n",
      " 1.98627451e+01 1.98627451e+01 1.98627451e+01 1.98627451e+01\n",
      " 1.98627451e+01 1.98627451e+01 1.98627451e+01 1.98627451e+01\n",
      " 1.45411765e+01 1.10313725e+01 1.03333333e+01 1.03333333e+01\n",
      " 1.03333333e+01 1.03333333e+01 1.03333333e+01 1.03333333e+01\n",
      " 1.03333333e+01 1.03333333e+01 1.16117647e+01 1.44941176e+01\n",
      " 1.78509804e+01 2.07058824e+01 2.38862745e+01 2.77882353e+01\n",
      " 2.94549020e+01 2.95960784e+01 2.92941176e+01 2.79803922e+01\n",
      " 2.58274510e+01 2.34980392e+01 2.08352941e+01 1.78117647e+01\n",
      " 1.37176471e+01 3.98823529e+00 0.00000000e+00 0.00000000e+00\n",
      " 0.00000000e+00 0.00000000e+00 5.17647059e-01 4.11372549e+00\n",
      " 7.42745098e+00 1.10980392e+01 1.45843137e+01 1.82941176e+01\n",
      " 2.22784314e+01 2.51921569e+01 2.81254902e+01 3.06509804e+01\n",
      " 3.25647059e+01 3.42313725e+01 3.77137255e+01 4.29137255e+01\n",
      " 5.11529412e+01 5.16470588e+01 5.01019608e+01 4.90352941e+01\n",
      " 4.84313725e+01 4.78000000e+01 4.71725490e+01 4.40156863e+01\n",
      " 4.08235294e+01 4.05764706e+01 3.73921569e+01 2.45686275e+01\n",
      " 2.41803922e+01 2.36627451e+01 2.27058824e+01 2.17058824e+01\n",
      " 2.16627451e+01 2.23176471e+01 1.33803922e+01 1.08156863e+01\n",
      " 9.81568627e+00 9.45490196e+00 9.78823529e+00 1.06745098e+01\n",
      " 1.57647059e+01 2.17372549e+01 2.22117647e+01 2.24313725e+01\n",
      " 2.27725490e+01 2.27686275e+01 2.16666667e+01 1.92274510e+01\n",
      " 1.20392157e+01 1.54117647e+00 0.00000000e+00 0.00000000e+00\n",
      " 5.49019608e-02 1.42745098e+00 5.68627451e+00 1.54352941e+01\n",
      " 2.42039216e+01 2.98784314e+01 3.50745098e+01 3.90549020e+01\n",
      " 4.27058824e+01 4.49647059e+01 4.64980392e+01 4.65058824e+01\n",
      " 4.65686275e+01 4.47411765e+01 4.23607843e+01 4.07921569e+01\n",
      " 3.96392157e+01 3.83803922e+01 3.77372549e+01 3.60313725e+01\n",
      " 3.41215686e+01 3.33686275e+01 3.17058824e+01 3.06000000e+01\n",
      " 2.93098039e+01 2.81019608e+01 2.70823529e+01 2.62000000e+01\n",
      " 2.59529412e+01 2.57450980e+01 2.48901961e+01 2.42627451e+01\n",
      " 2.36313725e+01 2.19098039e+01 1.93803922e+01 1.55921569e+01\n",
      " 1.33882353e+01 1.26274510e+01 1.23960784e+01 1.20156863e+01\n",
      " 1.20117647e+01 1.17019608e+01 1.12039216e+01 1.06549020e+01\n",
      " 9.77647059e+00 7.63921569e+00 3.94901961e+00 1.00000000e+00\n",
      " 0.00000000e+00 0.00000000e+00 1.49019608e-01 2.38823529e+00\n",
      " 1.10000000e+01 1.99294118e+01 2.50784314e+01 2.86745098e+01\n",
      " 3.22235294e+01 3.53529412e+01 3.80117647e+01 4.12392157e+01\n",
      " 4.62470588e+01 4.75764706e+01 4.58705882e+01 4.56901961e+01\n",
      " 4.48509804e+01 4.24196078e+01 3.89803922e+01 3.63019608e+01\n",
      " 3.36862745e+01 3.09921569e+01 2.80470588e+01 2.62549020e+01\n",
      " 2.57686275e+01 2.60313725e+01 2.61098039e+01 2.65098039e+01\n",
      " 2.69176471e+01 2.75686275e+01 2.77294118e+01 2.80156863e+01\n",
      " 2.84470588e+01 2.89647059e+01 2.98313725e+01 3.10039216e+01\n",
      " 3.22235294e+01 3.40901961e+01 3.70901961e+01 3.88313725e+01\n",
      " 3.72823529e+01 3.49372549e+01 3.28431373e+01 3.05254902e+01\n",
      " 2.78117647e+01 2.43882353e+01 2.00901961e+01 1.45568627e+01\n",
      " 5.01568627e+00 0.00000000e+00 0.00000000e+00 0.00000000e+00\n",
      " 0.00000000e+00 0.00000000e+00 0.00000000e+00 0.00000000e+00\n",
      " 0.00000000e+00 0.00000000e+00 0.00000000e+00 0.00000000e+00\n",
      " 0.00000000e+00 0.00000000e+00 0.00000000e+00 0.00000000e+00\n",
      " 0.00000000e+00 0.00000000e+00 1.01960784e-01 1.47058824e+00\n",
      " 4.36470588e+00 7.52941176e+00 1.05450980e+01 1.34862745e+01\n",
      " 1.68823529e+01 2.03843137e+01 2.34196078e+01 2.66627451e+01\n",
      " 2.86941176e+01 3.02117647e+01 3.25882353e+01 3.64431373e+01\n",
      " 4.22901961e+01 4.90156863e+01 5.15137255e+01 4.93686275e+01\n",
      " 4.72078431e+01 4.48352941e+01 4.25215686e+01 4.00588235e+01\n",
      " 3.61529412e+01 3.19019608e+01 2.79176471e+01 2.17647059e+01\n",
      " 7.23529412e+00 7.09803922e-01 0.00000000e+00 0.00000000e+00\n",
      " 0.00000000e+00 0.00000000e+00 0.00000000e+00 0.00000000e+00\n",
      " 0.00000000e+00 0.00000000e+00 0.00000000e+00 0.00000000e+00\n",
      " 0.00000000e+00 0.00000000e+00 0.00000000e+00 0.00000000e+00\n",
      " 0.00000000e+00 0.00000000e+00 0.00000000e+00 0.00000000e+00\n",
      " 2.74509804e-02 0.00000000e+00 1.84313725e-01 2.27450980e+00\n",
      " 5.28627451e+00 8.40000000e+00 1.14627451e+01 1.48901961e+01\n",
      " 1.81019608e+01 2.11215686e+01 2.44745098e+01 2.77215686e+01\n",
      " 2.92392157e+01 3.09764706e+01 3.39882353e+01 3.85176471e+01\n",
      " 4.47568627e+01 5.09725490e+01 5.08588235e+01 4.84901961e+01\n",
      " 4.64941176e+01 4.43490196e+01 4.17843137e+01 3.90549020e+01\n",
      " 3.49098039e+01 3.06235294e+01 2.66000000e+01 1.96823529e+01\n",
      " 4.09803922e+00 0.00000000e+00 0.00000000e+00 0.00000000e+00\n",
      " 0.00000000e+00 0.00000000e+00 0.00000000e+00 0.00000000e+00\n",
      " 0.00000000e+00 0.00000000e+00 0.00000000e+00]\n"
     ]
    }
   ],
   "source": [
    "print(s[0])"
   ]
  },
  {
   "cell_type": "code",
   "execution_count": 20,
   "metadata": {},
   "outputs": [
    {
     "data": {
      "text/plain": [
       "<function matplotlib.pyplot.show(close=None, block=None)>"
      ]
     },
     "execution_count": 20,
     "metadata": {},
     "output_type": "execute_result"
    },
    {
     "data": {
      "image/png": "[encoded data removed]",
      "text/plain": [
       "<Figure size 640x480 with 1 Axes>"
      ]
     },
     "metadata": {},
     "output_type": "display_data"
    }
   ],
   "source": [
    "plt.close\n",
    "plt.plot(s[0])\n",
    "plt.show"
   ]
  },
  {
   "cell_type": "code",
   "execution_count": 21,
   "metadata": {},
   "outputs": [],
   "source": [
    "impelak = pelak.copy()\n",
    "impelak = cv2.line(impelak,(215,0),(215,90),(0,0,0),3)\n",
    "#show_im(impelak)\n",
    "cv2.imshow('ax',impelak)\n",
    "cv2.waitKey(0)\n",
    "cv2.destroyAllWindows()"
   ]
  },
  {
   "cell_type": "code",
   "execution_count": 4,
   "metadata": {},
   "outputs": [
    {
     "ename": "NameError",
     "evalue": "name 'pelak' is not defined",
     "output_type": "error",
     "traceback": [
      "\u001b[1;31m---------------------------------------------------------------------------\u001b[0m",
      "\u001b[1;31mNameError\u001b[0m                                 Traceback (most recent call last)",
      "Cell \u001b[1;32mIn[4], line 1\u001b[0m\n\u001b[1;32m----> 1\u001b[0m impelak \u001b[38;5;241m=\u001b[39m \u001b[43mpelak\u001b[49m\u001b[38;5;241m.\u001b[39mcopy()\n\u001b[0;32m      2\u001b[0m x\u001b[38;5;241m=\u001b[39m\u001b[38;5;241m0\u001b[39m\n\u001b[0;32m      3\u001b[0m flag1 \u001b[38;5;241m=\u001b[39m\u001b[38;5;28;01mFalse\u001b[39;00m\n",
      "\u001b[1;31mNameError\u001b[0m: name 'pelak' is not defined"
     ]
    }
   ],
   "source": [
    "impelak = pelak.copy()\n",
    "x=0\n",
    "flag1 =False\n",
    "flag2 =False\n",
    "x1=0\n",
    "x2=0\n",
    "img_ar = []\n",
    "for i in s[0]:\n",
    "    x=x+1\n",
    "    if i >9 and flag1==True and flag2==False:\n",
    "        #x2 = x\n",
    "        flag2 = True\n",
    "\n",
    "    if i<5:\n",
    "        impelak = cv2.line(impelak,(x,0),(x,90),(0,255,0),1)\n",
    "\n",
    "        if flag1 == False:\n",
    "            x1 = x\n",
    "            #flag1 = True\n",
    "\n",
    "        if flag2 == True:\n",
    "            x2=x\n",
    "            flag2 = False\n",
    "            flag1 = False\n",
    "            img1 = impelak[:,x1:x2]\n",
    "\n",
    "\n",
    "            x1  =np.empty((0,256))\n",
    "            im2 = cv2.resize(img1,(8,32))\n",
    "            #im3 = cv2.cvtColor(im2,cv2.COLOR_BGR2GRAY)\n",
    "            im4 = im2.flatten()\n",
    "            x1=np.append(x1,[im4],axis=0)\n",
    "            result = model.predict(x1)\n",
    "            print(result)\n",
    "\n",
    "\n",
    "\n",
    "            cv2.imshow('ax',img1)\n",
    "            cv2.waitKey(0)\n",
    "            cv2.destroyAllWindows()\n",
    "            x1=x2\n",
    "        \n",
    "        flag1 = True\n",
    "\n",
    "show_im(impelak)"
   ]
  },
  {
   "cell_type": "code",
   "execution_count": 18,
   "metadata": {},
   "outputs": [],
   "source": [
    "img1 = impelak[:,0:50]\n",
    "show_im(img1)"
   ]
  },
  {
   "cell_type": "code",
   "execution_count": 23,
   "metadata": {},
   "outputs": [],
   "source": [
    "import numpy as np\n",
    "import cv2\n",
    "import os\n",
    "from sklearn import linear_model\n",
    "from sklearn.model_selection import train_test_split\n",
    "import matplotlib.pyplot as plt"
   ]
  },
  {
   "cell_type": "code",
   "execution_count": 24,
   "metadata": {},
   "outputs": [],
   "source": [
    "base_x = 8\n",
    "base_y = 32\n",
    "base = base_x * base_y\n",
    "boxes = np.empty((0,4),dtype=int)\n",
    "pelak = 'pelak2.png'"
   ]
  },
  {
   "cell_type": "code",
   "execution_count": 25,
   "metadata": {},
   "outputs": [],
   "source": [
    "def loadflatten(addedimg):\n",
    "    img = cv2.resize(cv2.imread(addedimg , 0),(base_x,base_y)).flatten()\n",
    "    return img"
   ]
  },
  {
   "cell_type": "code",
   "execution_count": null,
   "metadata": {},
   "outputs": [],
   "source": [
    "x=np.empty((0,base),dtype=int)\n",
    "y=np.array((0),dtype=int)\n",
    "files=os.listdir('1')\n",
    "\n",
    "for drino in range(1,10):\n",
    "    files=os.listdir(str(k))\n",
    "    for filename in files:\n",
    "        im=loadflatten(str(k)+'/'+filename)\n",
    "        x = np.append(x , im , axis=0)\n",
    "        ys = np.append(y , drino)\n",
    "        #im2 = cv2.resize(im,(8,32))\n",
    "        #im3 = cv2.cvtColor(im2,cv2.COLOR_BGR2GRAY)\n",
    "        #im4 = im3.flatten()\n",
    "        #x=np.append(x,[im4],axis=0)\n",
    "        #y=np.append(y,k)\n"
   ]
  },
  {
   "cell_type": "code",
   "execution_count": null,
   "metadata": {},
   "outputs": [],
   "source": [
    "X_train , X_test , y_train , y_test = train_test_split( x,y, test_size=0.2)\n",
    "\n",
    "model =linear_model.LogisticRegression()\n",
    "model.max_iter = 100000\n",
    "model.fit(x , y)\n",
    "\n",
    "out = model.predict(X_test)"
   ]
  },
  {
   "cell_type": "code",
   "execution_count": null,
   "metadata": {},
   "outputs": [],
   "source": [
    "out = [x==y for x,y in zip(out,y_test)]"
   ]
  },
  {
   "cell_type": "code",
   "execution_count": null,
   "metadata": {},
   "outputs": [],
   "source": [
    "pelak_base=cv2.imread(pelak)\n",
    "pelak_base = cv2.resize(pelak_base,(8,32))\n",
    "pelak1 = pelak_base,copy()\n",
    "im3 = cv2.cvtColor(pelak,cv2.COLOR_BGR2GRAY)\n",
    "_ , pelak = cv2.threshold(pelak(64,255,cv2,THRESH_BINARY))\n",
    "x1=np.append(x1,[im4],axis=0)"
   ]
  },
  {
   "cell_type": "code",
   "execution_count": null,
   "metadata": {},
   "outputs": [],
   "source": [
    "s = 90-(np.sum(pelak , axis=0 , keepdims=True)/255)"
   ]
  },
  {
   "cell_type": "code",
   "execution_count": null,
   "metadata": {},
   "outputs": [],
   "source": [
    "0"
   ]
  },
  {
   "cell_type": "code",
   "execution_count": null,
   "metadata": {},
   "outputs": [],
   "source": []
  },
  {
   "cell_type": "code",
   "execution_count": null,
   "metadata": {},
   "outputs": [],
   "source": []
  },
  {
   "cell_type": "code",
   "execution_count": null,
   "metadata": {},
   "outputs": [],
   "source": []
  },
  {
   "cell_type": "code",
   "execution_count": null,
   "metadata": {},
   "outputs": [],
   "source": []
  }
 ],
 "metadata": {
  "kernelspec": {
   "display_name": "Python 3",
   "language": "python",
   "name": "python3"
  },
  "language_info": {
   "codemirror_mode": {
    "name": "ipython",
    "version": 3
   },
   "file_extension": ".py",
   "mimetype": "text/x-python",
   "name": "python",
   "nbconvert_exporter": "python",
   "pygments_lexer": "ipython3",
   "version": "3.8.8"
  }
 },
 "nbformat": 4,
 "nbformat_minor": 2
}
